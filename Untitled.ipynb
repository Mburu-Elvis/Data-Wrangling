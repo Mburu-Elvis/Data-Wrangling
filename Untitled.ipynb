{
 "cells": [
  {
   "cell_type": "markdown",
   "id": "d9da94b1",
   "metadata": {},
   "source": [
    "# Data Analysis Introduction"
   ]
  },
  {
   "cell_type": "code",
   "execution_count": 1,
   "id": "77e3f330",
   "metadata": {},
   "outputs": [],
   "source": [
    " #Data analysis - it's a process of inspecting, cleansing, transforming\n",
    "    #and modelling data with the goal of discovering information conclusion\n",
    "    #and supporting decision-making"
   ]
  },
  {
   "cell_type": "code",
   "execution_count": 2,
   "id": "7807246a",
   "metadata": {},
   "outputs": [],
   "source": [
    "#Data Analysis Process\n",
    "#Data Extraction\n",
    "#Data Cleaning\n",
    "#Data Wranglng\n",
    "#Analysis \n",
    "#Action"
   ]
  },
  {
   "cell_type": "code",
   "execution_count": null,
   "id": "2de4fcab",
   "metadata": {},
   "outputs": [],
   "source": [
    "#libraries\n",
    "#Pandas\n",
    "#Numpy\n",
    "#Matplotlib"
   ]
  },
  {
   "cell_type": "code",
   "execution_count": null,
   "id": "ecd72623",
   "metadata": {},
   "outputs": [],
   "source": []
  }
 ],
 "metadata": {
  "kernelspec": {
   "display_name": "Python 3 (ipykernel)",
   "language": "python",
   "name": "python3"
  },
  "language_info": {
   "codemirror_mode": {
    "name": "ipython",
    "version": 3
   },
   "file_extension": ".py",
   "mimetype": "text/x-python",
   "name": "python",
   "nbconvert_exporter": "python",
   "pygments_lexer": "ipython3",
   "version": "3.10.6"
  }
 },
 "nbformat": 4,
 "nbformat_minor": 5
}
